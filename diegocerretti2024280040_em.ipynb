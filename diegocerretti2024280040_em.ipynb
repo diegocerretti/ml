{
 "cells": [
  {
   "cell_type": "markdown",
   "id": "5f876b40-deea-46b4-908a-3988af6f8c62",
   "metadata": {},
   "source": [
    "# Diego Cerretti 2024280040 - Homework 2 EM Algorithm"
   ]
  },
  {
   "cell_type": "markdown",
   "id": "78a58e8a-6724-4c35-9bc3-7783194361fc",
   "metadata": {},
   "source": [
    "We implement an EM algorithm for a mixture of multinomials model, aimed at discovering topics in the 20 Newsgroups dataset by clustering documents and extracting the most frequent words in each topic."
   ]
  },
  {
   "cell_type": "markdown",
   "id": "274131c7-3485-4ce4-96b3-72d6cd78658a",
   "metadata": {},
   "source": [
    "## Data Loading and Preprocessing"
   ]
  },
  {
   "cell_type": "code",
   "execution_count": 79,
   "id": "7498a7f8-11a2-4585-809a-0ddd724cda89",
   "metadata": {},
   "outputs": [],
   "source": [
    "import numpy as np\n",
    "from sklearn.datasets import fetch_20newsgroups\n",
    "from sklearn.feature_extraction.text import TfidfVectorizer\n",
    "from sklearn.cluster import KMeans\n",
    "from scipy.special import logsumexp"
   ]
  },
  {
   "cell_type": "code",
   "execution_count": 81,
   "id": "ef58146d-a77d-4dff-97ec-4f423018aaa4",
   "metadata": {},
   "outputs": [],
   "source": [
    "newsgroups = fetch_20newsgroups(subset='all', remove=('headers', 'footers', 'quotes'))\n",
    "vectorizer = TfidfVectorizer(max_df=0.5, min_df=20, stop_words='english', max_features=10000)\n",
    "X = vectorizer.fit_transform(newsgroups.data)\n",
    "T = X.toarray().astype(float)\n",
    "vocab = vectorizer.get_feature_names_out()\n",
    "D, W = T.shape"
   ]
  },
  {
   "cell_type": "markdown",
   "id": "0d23b668-4f3a-45f1-8552-1e66f708fcd1",
   "metadata": {},
   "source": [
    "## Parameter Initialization"
   ]
  },
  {
   "cell_type": "code",
   "execution_count": 89,
   "id": "093e4224-d04b-4606-b3ca-2bd2fbe7d9be",
   "metadata": {},
   "outputs": [],
   "source": [
    "def initialize_parameters(K, T):\n",
    "    np.random.seed(42)\n",
    "    kmeans = KMeans(n_clusters=K, n_init=10, random_state=42).fit(T)\n",
    "    cluster_assignments = kmeans.labels_\n",
    "    pi = np.bincount(cluster_assignments, minlength=K) / len(cluster_assignments)\n",
    "    mu = np.zeros((K, W))\n",
    "    for k in range(K):\n",
    "        mu[k] = T[cluster_assignments == k].mean(axis=0)\n",
    "    mu += 1e-15  \n",
    "    mu /= mu.sum(axis=1, keepdims=True)\n",
    "    return pi, mu"
   ]
  },
  {
   "cell_type": "markdown",
   "id": "1c8f06ea-d046-44dc-a792-28dc18cde71a",
   "metadata": {},
   "source": [
    "## Expectation Step"
   ]
  },
  {
   "cell_type": "code",
   "execution_count": 91,
   "id": "4629506d-7c64-4d92-bbb0-9299442c8b75",
   "metadata": {},
   "outputs": [],
   "source": [
    "def e_step(T, pi, mu):\n",
    "    log_pi = np.log(pi + 1e-15)\n",
    "    log_mu = np.log(mu + 1e-15)\n",
    "    log_gamma = log_pi[np.newaxis, :] + T @ log_mu.T\n",
    "    log_gamma -= logsumexp(log_gamma, axis=1)[:, np.newaxis]\n",
    "    gamma = np.exp(log_gamma)\n",
    "    return gamma"
   ]
  },
  {
   "cell_type": "markdown",
   "id": "503c196d-050c-452e-9e83-e4e9bb6238dc",
   "metadata": {},
   "source": [
    "## Maximization Step"
   ]
  },
  {
   "cell_type": "code",
   "execution_count": 92,
   "id": "9847419e-b277-4fce-a383-d995ee7af0f7",
   "metadata": {},
   "outputs": [],
   "source": [
    "def m_step(T, gamma):\n",
    "    pi = gamma.sum(axis=0) / gamma.shape[0]\n",
    "    mu = (gamma.T @ T) + 1e-15\n",
    "    mu /= mu.sum(axis=1, keepdims=True)  # Normalize\n",
    "    return pi, mu"
   ]
  },
  {
   "cell_type": "markdown",
   "id": "4af4fd42-133d-4357-b114-ae642a4adde7",
   "metadata": {},
   "source": [
    "## Log-Likelihoog Calculation"
   ]
  },
  {
   "cell_type": "code",
   "execution_count": 95,
   "id": "9ce35256-ef02-4de4-817f-d591d708bfa9",
   "metadata": {},
   "outputs": [],
   "source": [
    "def compute_log_likelihood(T, pi, mu):\n",
    "    log_pi = np.log(pi + 1e-15)\n",
    "    log_mu = np.log(mu + 1e-15)\n",
    "    log_likelihood = np.sum(logsumexp(log_pi + T @ log_mu.T, axis=1))\n",
    "    return log_likelihood / T.shape[0]"
   ]
  },
  {
   "cell_type": "markdown",
   "id": "77b4fa4c-26b6-4e08-9f2f-3400ffb4cafa",
   "metadata": {},
   "source": [
    "## EM Algorithm Execution"
   ]
  },
  {
   "cell_type": "code",
   "execution_count": 97,
   "id": "0a724193-de8c-4948-a62a-6e9282145a39",
   "metadata": {},
   "outputs": [],
   "source": [
    "def run_em(T, K, max_iters=50, tol=1e-4):\n",
    "    pi, mu = initialize_parameters(K, T)\n",
    "    log_likelihoods = []\n",
    "    for iteration in range(max_iters):\n",
    "        gamma = e_step(T, pi, mu)\n",
    "        pi, mu = m_step(T, gamma)\n",
    "        log_likelihood = compute_log_likelihood(T, pi, mu)\n",
    "        log_likelihoods.append(log_likelihood)\n",
    "        if iteration > 0 and abs(log_likelihoods[-1] - log_likelihoods[-2]) < tol:\n",
    "            print(f'Converged at iteration {iteration}')\n",
    "            break\n",
    "        if iteration % 5 == 0:\n",
    "            print(f'Iteration {iteration}, Avg Log-Likelihood: {log_likelihood}')\n",
    "    return pi, mu"
   ]
  },
  {
   "cell_type": "markdown",
   "id": "d2b96441-24f6-4c97-bbf6-42bdf42d3915",
   "metadata": {},
   "source": [
    "## Extracting Top Words"
   ]
  },
  {
   "cell_type": "code",
   "execution_count": 99,
   "id": "5bd01c7a-41ec-44ec-9cef-3f828923cc79",
   "metadata": {},
   "outputs": [],
   "source": [
    "def get_top_words(mu, vocab, n_top_words=10):\n",
    "    return [[vocab[i] for i in topic.argsort()[-n_top_words:][::-1]] for topic in mu]"
   ]
  },
  {
   "cell_type": "markdown",
   "id": "21214d2c-a6ca-4cf7-837b-08136ddd4a3a",
   "metadata": {},
   "source": [
    "## Running and Displaying Results"
   ]
  },
  {
   "cell_type": "code",
   "execution_count": 101,
   "id": "269558b5-cc69-4d9b-bb4b-6040c0b9a80f",
   "metadata": {},
   "outputs": [
    {
     "name": "stdout",
     "output_type": "stream",
     "text": [
      "\n",
      "Running EM algorithm for K=10\n",
      "Iteration 0, Avg Log-Likelihood: -42.728953534971396\n",
      "Iteration 5, Avg Log-Likelihood: -42.56777007690151\n",
      "Iteration 10, Avg Log-Likelihood: -42.55073955654128\n",
      "Iteration 15, Avg Log-Likelihood: -42.543371064036464\n",
      "Iteration 20, Avg Log-Likelihood: -42.538125104037924\n",
      "Iteration 25, Avg Log-Likelihood: -42.53415182619423\n",
      "Iteration 30, Avg Log-Likelihood: -42.52871235214928\n",
      "Iteration 35, Avg Log-Likelihood: -42.52008942834828\n",
      "Iteration 40, Avg Log-Likelihood: -42.51826422822769\n",
      "Iteration 45, Avg Log-Likelihood: -42.51696649725123\n",
      "\n",
      "Running EM algorithm for K=20\n",
      "Iteration 0, Avg Log-Likelihood: -42.568482524502215\n",
      "Iteration 5, Avg Log-Likelihood: -42.306126347448235\n",
      "Iteration 10, Avg Log-Likelihood: -42.255950171189305\n",
      "Iteration 15, Avg Log-Likelihood: -42.23946379851101\n",
      "Iteration 20, Avg Log-Likelihood: -42.23105982383621\n",
      "Iteration 25, Avg Log-Likelihood: -42.22499778344842\n",
      "Iteration 30, Avg Log-Likelihood: -42.220687261247576\n",
      "Iteration 35, Avg Log-Likelihood: -42.21783422155833\n",
      "Iteration 40, Avg Log-Likelihood: -42.21656205043657\n",
      "Iteration 45, Avg Log-Likelihood: -42.215496400345465\n",
      "\n",
      "Running EM algorithm for K=30\n",
      "Iteration 0, Avg Log-Likelihood: -42.51455644178128\n",
      "Iteration 5, Avg Log-Likelihood: -42.17877635421886\n",
      "Iteration 10, Avg Log-Likelihood: -42.121768912820436\n",
      "Iteration 15, Avg Log-Likelihood: -42.09908060046375\n",
      "Iteration 20, Avg Log-Likelihood: -42.08816626243148\n",
      "Iteration 25, Avg Log-Likelihood: -42.08052656216318\n",
      "Iteration 30, Avg Log-Likelihood: -42.07430687158314\n",
      "Iteration 35, Avg Log-Likelihood: -42.06847396629787\n",
      "Iteration 40, Avg Log-Likelihood: -42.0620808733817\n",
      "Iteration 45, Avg Log-Likelihood: -42.055515098346206\n",
      "\n",
      "Running EM algorithm for K=50\n",
      "Iteration 0, Avg Log-Likelihood: -42.759032509988984\n",
      "Iteration 5, Avg Log-Likelihood: -42.59027331668292\n",
      "Iteration 10, Avg Log-Likelihood: -42.52635416957757\n",
      "Iteration 15, Avg Log-Likelihood: -42.49974267114049\n",
      "Iteration 20, Avg Log-Likelihood: -42.49321248790558\n",
      "Iteration 25, Avg Log-Likelihood: -42.48969773138818\n",
      "Iteration 30, Avg Log-Likelihood: -42.485973993616085\n",
      "Iteration 35, Avg Log-Likelihood: -42.48208290858369\n",
      "Iteration 40, Avg Log-Likelihood: -42.47710997015218\n",
      "Iteration 45, Avg Log-Likelihood: -42.474245310114185\n",
      "\n",
      "Top words for K=10:\n",
      "Topic 1: drive, scsi, disk, ide, controller, drives, dos, hard, bus, windows\n",
      "Topic 2: key, clipper, encryption, chip, keys, government, nsa, escrow, algorithm, use\n",
      "Topic 3: car, bike, just, like, engine, cars, don, new, good, know\n",
      "Topic 4: god, jesus, people, bible, christian, believe, don, think, say, church\n",
      "Topic 5: space, edu, nasa, orbit, shuttle, 00, like, don, earth, just\n",
      "Topic 6: people, don, just, think, like, know, government, gun, right, did\n",
      "Topic 7: israel, jews, armenian, armenians, israeli, people, arab, turkish, jewish, turkey\n",
      "Topic 8: game, team, games, year, hockey, players, season, baseball, think, play\n",
      "Topic 9: windows, file, thanks, program, window, files, use, know, does, ftp\n",
      "Topic 10: card, thanks, monitor, know, use, like, does, drive, sale, video\n",
      "\n",
      "Top words for K=20:\n",
      "Topic 1: use, thanks, mac, apple, know, monitor, like, does, just, modem\n",
      "Topic 2: edu, com, university, __, ax, ca, mail, phone, computer, internet\n",
      "Topic 3: card, drivers, video, bus, monitor, windows, driver, diamond, vlb, vesa\n",
      "Topic 4: thanks, graphics, file, files, ftp, program, windows, image, format, know\n",
      "Topic 5: god, jesus, bible, church, christ, christian, people, christians, sin, believe\n",
      "Topic 6: space, nasa, orbit, shuttle, launch, moon, earth, mission, spacecraft, solar\n",
      "Topic 7: drive, scsi, ide, drives, disk, controller, hard, bus, floppy, hd\n",
      "Topic 8: people, don, just, think, government, gun, like, right, know, fbi\n",
      "Topic 9: dsl, n3jxp, cadre, chastity, geb, skepticism, intellect, shameful, pitt, gordon\n",
      "Topic 10: instead, turkey, christmas, bait, served, mail, day, flame, just, flaming\n",
      "Topic 11: sale, 00, offer, shipping, condition, asking, new, price, sell, interested\n",
      "Topic 12: god, people, don, think, believe, objective, say, religion, morality, atheism\n",
      "Topic 13: msg, doctor, disease, food, know, medical, patients, don, like, treatment\n",
      "Topic 14: key, clipper, encryption, chip, keys, government, nsa, escrow, algorithm, use\n",
      "Topic 15: windows, dos, file, files, program, os, use, ms, problem, using\n",
      "Topic 16: window, server, widget, application, xterm, display, x11r5, use, program, motif\n",
      "Topic 17: thanks, mail, address, email, list, know, edu, send, info, information\n",
      "Topic 18: game, team, games, year, hockey, players, season, think, baseball, play\n",
      "Topic 19: car, bike, just, like, cars, engine, don, good, know, new\n",
      "Topic 20: israel, jews, armenian, armenians, israeli, people, arab, turkish, jewish, arabs\n",
      "\n",
      "Top words for K=30:\n",
      "Topic 1: nasa, mary, ames, shafer, dryden, insisting, balls, gov, safety, perfect\n",
      "Topic 2: car, engine, cars, miles, new, just, like, oil, bike, good\n",
      "Topic 3: god, people, objective, think, don, morality, believe, say, moral, religion\n",
      "Topic 4: card, monitor, bus, video, windows, board, 486, motherboard, thanks, cards\n",
      "Topic 5: fbi, koresh, batf, compound, children, people, did, waco, gas, government\n",
      "Topic 6: key, encryption, clipper, chip, keys, government, nsa, escrow, algorithm, use\n",
      "Topic 7: bobbe, good, ico, beauchaine, sank, queens, tek, bronx, manhattan, vice\n",
      "Topic 8: scsi, drive, ide, bus, controller, dma, isa, drives, cd, transfer\n",
      "Topic 9: right, militia, amendment, constitution, turkey, rights, arms, people, second, bear\n",
      "Topic 10: game, team, games, year, hockey, players, season, play, think, baseball\n",
      "Topic 11: window, server, motif, widget, use, program, file, application, using, display\n",
      "Topic 12: sale, 00, shipping, offer, condition, asking, new, price, sell, interested\n",
      "Topic 13: files, file, graphics, image, format, gif, program, ftp, thanks, windows\n",
      "Topic 14: people, don, think, just, like, government, know, say, make, right\n",
      "Topic 15: thanks, advance, looking, know, hi, information, does, mail, help, appreciate\n",
      "Topic 16: printer, drivers, driver, print, windows, version, ftp, cica, laser, fonts\n",
      "Topic 17: msg, doctor, disease, know, like, food, don, just, cause, people\n",
      "Topic 18: just, don, like, know, think, hey, people, sig, ll, newsgroup\n",
      "Topic 19: god, jesus, church, bible, christ, christian, christians, people, book, think\n",
      "Topic 20: drive, disk, drives, controller, hard, ide, scsi, floppy, hd, thanks\n",
      "Topic 21: israel, armenian, jews, armenians, israeli, people, turkish, arab, jewish, arabs\n",
      "Topic 22: dsl, n3jxp, cadre, chastity, geb, skepticism, intellect, shameful, pitt, gordon\n",
      "Topic 23: god, jesus, people, sin, believe, life, hell, christ, christian, bible\n",
      "Topic 24: mail, list, edu, address, com, mailing, send, thanks, email, subscribe\n",
      "Topic 25: university, edu, com, ax, 1993, computer, __, information, ca, mail\n",
      "Topic 26: space, orbit, shuttle, launch, moon, earth, mission, nasa, spacecraft, solar\n",
      "Topic 27: bike, ride, riding, dod, dog, just, helmet, like, motorcycle, bikes\n",
      "Topic 28: mac, use, apple, know, thanks, like, monitor, does, just, modem\n",
      "Topic 29: windows, dos, file, program, files, os, use, ms, run, disk\n",
      "Topic 30: gun, guns, crime, police, people, weapons, firearms, don, law, control\n",
      "\n",
      "Top words for K=50:\n",
      "Topic 1: punishment, abortion, capital, population, atheists, atheist, means, defend, control, war\n",
      "Topic 2: clipper, alias, nist, individuals, security, incident, response, disabled, posted, addresses\n",
      "Topic 3: thanks, window, file, windows, program, use, know, graphics, does, code\n",
      "Topic 4: just, don, like, know, car, think, people, good, time, use\n",
      "Topic 5: fpu, amiga, ported, fine, working, mhz, responses, installed, board, 25\n",
      "Topic 6: fbi, koresh, batf, people, gun, government, did, compound, don, children\n",
      "Topic 7: shaft, drive, motorcycle, possible, mike, wheel, chain, zx, effect, uh\n",
      "Topic 8: science, smoking, scientists, real, barrier, politicians, individual, nuclear, smith, scientific\n",
      "Topic 9: ban, agenda, atf, assault, feb, assembly, weapon, vote, waco, stories\n",
      "Topic 10: norway, conspiracy, fbi, went, trying, belong, helicopter, jumped, filling, doesn\n",
      "Topic 11: aspects, group, graphics, split, convenience, groups, newsgroup, awful, posts, algorithms\n",
      "Topic 12: sky, evening, sensing, microwave, ee, experiments, helped, ice, surface, remote\n",
      "Topic 13: window, mapped, expose, handler, item, event, xlib, new, contains, pressed\n",
      "Topic 14: 00, sale, condition, offer, shipping, edu, 10, new, asking, excellent\n",
      "Topic 15: 508, 00, 650, tape, drives, sale, 1300, certified, hudson, pending\n",
      "Topic 16: guitar, diameter, jason, switches, foot, offer, sale, like, keyboards, 15\n",
      "Topic 17: __, _____, ___, ____, _______, oo, tamu, edu, zeus, todd\n",
      "Topic 18: drive, card, thanks, scsi, monitor, use, know, does, mac, like\n",
      "Topic 19: offer, letter, emphasize, don, committee, usenet, communications, references, technical, write\n",
      "Topic 20: game, team, games, year, hockey, players, season, baseball, think, play\n",
      "Topic 21: windows, dos, file, files, program, drivers, driver, ftp, problem, thanks\n",
      "Topic 22: table, kick, feed, document, print, manual, mode, word, laserjet, lj\n",
      "Topic 23: moon, orbit, earth, lunar, nasa, planets, planet, images, venus, sun\n",
      "Topic 24: yeast, disease, candida, kidney, chronic, doctor, infection, vitamin, cause, blood\n",
      "Topic 25: echo, host, xterm, variables, title, set, gotten, escape, using, answer\n",
      "Topic 26: wanted, thanks, advance, know, 256k, motorcycle, sold, svga, internet, recommend\n",
      "Topic 27: goals, solid, friends, sounds, play, claim, team, game, lousy, let\n",
      "Topic 28: professor, istanbul, university, history, ankara, turkey, genocide, armenian, ed, ottoman\n",
      "Topic 29: end, winds, ws, clemens, ninth, officially, moves, bases, pitch, loaded\n",
      "Topic 30: lawyers, utexas, austin, tommy, fault, illusion, cs, toilet, advertised, ibm\n",
      "Topic 31: escrow, congress, keys, agencies, aclu, nra, private, law, secure, court\n",
      "Topic 32: thanks, moments, systems, generous, hd, tv, sound, current, information, used\n",
      "Topic 33: scanning, lighter, pcx, bmp, converted, gif, colors, ms, ideas, screen\n",
      "Topic 34: hawk, tank, honda, 88, additionally, racing, brothers, modified, huge, rear\n",
      "Topic 35: trend, areas, temperature, urban, article, attributed, mt, scientists, global, data\n",
      "Topic 36: turkey, christmas, served, day, pizza, bait, hut, flaming, wings, commercial\n",
      "Topic 37: electric, stove, electricity, hear, effective, eat, cutting, cold, food, fbi\n",
      "Topic 38: god, people, jesus, don, think, believe, bible, say, christian, just\n",
      "Topic 39: armenians, genocide, turkey, turkish, armenian, bones, today, claims, demand, crime\n",
      "Topic 40: msg, food, chinese, foods, eat, restaurant, people, carl, cat, flavor\n",
      "Topic 41: 260, year, aa, rookie, threw, 51, yes, 20, old, years\n",
      "Topic 42: subscribe, mil, kr, mailing, army, eve, tom, list, ac, files\n",
      "Topic 43: breathing, stuff, posted, awards, fluid, oxygen, devoted, cleaning, favorite, dry\n",
      "Topic 44: series, bird, composite, frames, animation, pictures, room, living, want, generated\n",
      "Topic 45: israel, jews, israeli, armenian, people, armenians, arab, turkish, war, jewish\n",
      "Topic 46: 24x, speedstar, vesa, diamond, modes, driver, tried, works, work, need\n",
      "Topic 47: mouse, cursor, pc, machine, local, lan, alex, accurately, hooked, encountered\n",
      "Topic 48: shafer, dryden, insisting, ames, balls, mary, safety, nasa, perfect, real\n",
      "Topic 49: dod, waters, 1919, jack, ii, post, sig, insured, credit, mentioning\n",
      "Topic 50: lc, pds, nubus, lciii, slot, card, iii, fpu, macs, cards\n"
     ]
    }
   ],
   "source": [
    "K_values = [10, 20, 30, 50]\n",
    "results = {}\n",
    "\n",
    "for K in K_values:\n",
    "    print(f'\\nRunning EM algorithm for K={K}')\n",
    "    pi, mu = run_em(T, K, max_iters=50, tol=1e-4)\n",
    "    results[K] = get_top_words(mu, vocab)\n",
    "\n",
    "# Display results\n",
    "for K in K_values:\n",
    "    print(f'\\nTop words for K={K}:')\n",
    "    for idx, words in enumerate(results[K]):\n",
    "        print(f\"Topic {idx+1}: {', '.join(words)}\")"
   ]
  }
 ],
 "metadata": {
  "kernelspec": {
   "display_name": "Python 3 (ipykernel)",
   "language": "python",
   "name": "python3"
  },
  "language_info": {
   "codemirror_mode": {
    "name": "ipython",
    "version": 3
   },
   "file_extension": ".py",
   "mimetype": "text/x-python",
   "name": "python",
   "nbconvert_exporter": "python",
   "pygments_lexer": "ipython3",
   "version": "3.11.5"
  }
 },
 "nbformat": 4,
 "nbformat_minor": 5
}
